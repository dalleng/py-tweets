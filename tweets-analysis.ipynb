{
 "metadata": {
  "name": "",
  "signature": "sha256:5cfe10ca176550e0d30a2edc210bf6d99aae0f475d0d00828c352aea448b4ab7"
 },
 "nbformat": 3,
 "nbformat_minor": 0,
 "worksheets": [
  {
   "cells": [
    {
     "cell_type": "markdown",
     "metadata": {},
     "source": [
      "Due to the limited amount of information regarding mobile marketshare in my country Paraguay, I decided to look for a way to get these stats. This might be useful for developers at the time of choosing which platform to target or prioritize. Probably cell phone carriers and local websites with a high traffic have this kind of stats, but I haven't found a public source.\n",
      "\n",
      "As the data source to derive the information I'm looking for I decided to use Twitter's API, [tweet](https://dev.twitter.com/overview/api/tweets) metadata includes the source used to tweet ('Twitter for Android', 'Twitter for iPhone', etc.) and from that the mobile platform can be inferred. The code I used and the ipython notebook on which this post is based are available in [this](https://github.com/dalleng/py-tweets) github repo. Probably not all people in the country use Twitter, but it is popular enough for this analysis to show relevant results.\n",
      "\n",
      "## Analysis using the Streaming API.\n",
      "\n",
      "The first approach I took was to use the [streaming api](https://dev.twitter.com/streaming/public) with a geolocation filter to gather tweets and store them in a mongodb database for later processing.\n",
      "\n",
      "```python\n",
      "from twython import TwythonStreamer\n",
      "\n",
      "import pymongo\n",
      "import sys\n",
      "\n",
      "APP_KEY = 'app-key'\n",
      "APP_SECRET = 'app-secret'\n",
      "OAUTH_TOKEN = 'oauth-token'\n",
      "OAUTH_TOKEN_SECRET = 'oauth-token-secret'\n",
      "\n",
      "\n",
      "class MyStreamer(TwythonStreamer):\n",
      "\n",
      "    def __init__(self, mongo_conn, *args):\n",
      "        TwythonStreamer.__init__(self, *args)\n",
      "        self.conn = mongo_conn\n",
      "        self.alive = True\n",
      "\n",
      "    def on_success(self, data):\n",
      "        if not self.alive:\n",
      "            self.disconnect()\n",
      "\n",
      "        try:\n",
      "            if data['place']['country_code'] == 'PY':\n",
      "                self.conn.insert(data)\n",
      "        except KeyError:\n",
      "            pass\n",
      "\n",
      "    def on_error(self, status_code, data):\n",
      "        print 'HTTP Error: {}'.format(status_code)\n",
      "\n",
      "\n",
      "def main():\n",
      "    \"\"\"\n",
      "    Usage: python stream.py [DATABASE] [COLLECTION]\n",
      "\n",
      "    DATABASE: MongoDb Database\n",
      "    COLLECTION: MongoDb Collection\n",
      "\n",
      "    \"\"\"\n",
      "\n",
      "    db, collection = sys.argv[1:]\n",
      "\n",
      "    client = pymongo.MongoClient()\n",
      "    conn = client[db][collection]\n",
      "\n",
      "    stream = MyStreamer(conn, APP_KEY, APP_SECRET,\n",
      "                        OAUTH_TOKEN, OAUTH_TOKEN_SECRET)\n",
      "\n",
      "    bounding_box = '-62.892728,-27.507697,-54.312378,-19.275389'\n",
      "\n",
      "    try:\n",
      "        stream.statuses.filter(locations=bounding_box)\n",
      "    except KeyboardInterrupt:\n",
      "        stream.alive = False\n",
      "        print 'Shutting Down'\n",
      "\n",
      "\n",
      "if __name__ == '__main__':\n",
      "    main()\n",
      "\n",
      "```\n",
      "\n",
      "\n",
      "To analyze tweets [IPython](http://ipython.org/), [pandas](http://pandas.pydata.org/) and [pymongo](http://api.mongodb.org/python/current/) were used.\n"
     ]
    },
    {
     "cell_type": "code",
     "collapsed": false,
     "input": [
      "%matplotlib inline\n",
      "\n",
      "from pymongo import MongoClient\n",
      "from pandas import DataFrame\n",
      "from bs4 import BeautifulSoup\n",
      "\n",
      "import matplotlib.pyplot as plt\n",
      "\n",
      "client = MongoClient()\n",
      "db = client.tweets\n",
      "data = db.streaming.aggregate(\n",
      "    {'$project': {'_id': '$user.id', 'source': '$source'}}, cursor={})\n",
      "\n",
      "df_stream = DataFrame(list(data))"
     ],
     "language": "python",
     "metadata": {},
     "outputs": [],
     "prompt_number": 1
    },
    {
     "cell_type": "markdown",
     "metadata": {},
     "source": [
      "The script run for about a month (between the end of July/2014 and August/2014). From 891755 tweets gathered there I found 29257 unique users. Twitter, as many other online services with user-generated content, shows that a reduced amount of people generate much of the content. Also learned later by observing tweets obtained from my crawler (see Approach 2) that many people has geolocation turned off."
     ]
    },
    {
     "cell_type": "code",
     "collapsed": false,
     "input": [
      "len(df_stream)"
     ],
     "language": "python",
     "metadata": {},
     "outputs": [
      {
       "metadata": {},
       "output_type": "pyout",
       "prompt_number": 4,
       "text": [
        "891755"
       ]
      }
     ],
     "prompt_number": 4
    },
    {
     "cell_type": "code",
     "collapsed": false,
     "input": [
      "len(df_stream['_id'].drop_duplicates())"
     ],
     "language": "python",
     "metadata": {},
     "outputs": [
      {
       "metadata": {},
       "output_type": "pyout",
       "prompt_number": 5,
       "text": [
        "29257"
       ]
      }
     ],
     "prompt_number": 5
    },
    {
     "cell_type": "markdown",
     "metadata": {},
     "source": [
      "By cleaning the sources, doing some merges between equivalent columns and counting, the list of the most popular sources is obtained. Instagram and Twitter are huge."
     ]
    },
    {
     "cell_type": "code",
     "collapsed": false,
     "input": [
      "source_counts = df_stream['source'].value_counts()\n",
      "clean_source = lambda x: BeautifulSoup(x).a.string if '<a' in x else x\n",
      "source_counts.index = [clean_source(i) for i in source_counts.index]\n",
      "\n",
      "def merge(series, index_a, index_b):\n",
      "    series[index_a] += series[index_b]\n",
      "    return series.drop(index_b)\n",
      "\n",
      "source_counts = merge(source_counts, 'Twitter for Android', 'Twitter for  Android')\n",
      "source_counts = merge(source_counts, 'Foursquare', 'foursquare')\n",
      "source_counts = merge(source_counts, 'Twitter for BlackBerry', u'Twitter for BlackBerry\u00ae')\n",
      "\n",
      "source_counts[:10]"
     ],
     "language": "python",
     "metadata": {},
     "outputs": [
      {
       "metadata": {},
       "output_type": "pyout",
       "prompt_number": 7,
       "text": [
        "Twitter for Android            692610\n",
        "Foursquare                      96517\n",
        "Twitter for iPhone              55238\n",
        "Instagram                       22592\n",
        "Twitter Web Client              11279\n",
        "Twitter for Android Tablets      3832\n",
        "Twitter for Windows Phone        3331\n",
        "Tweetbot for i\u039fS                  799\n",
        "Twitter for Nokia S40             787\n",
        "Twitter for iPad                  405\n",
        "dtype: int64"
       ]
      }
     ],
     "prompt_number": 7
    },
    {
     "cell_type": "markdown",
     "metadata": {},
     "source": [
      "To get mobile platforms stats, which is what I was really interested in, I used only mobile sources ('Twitter for Android', 'Twitter for iPhone', etc.) and also eliminated duplicates, so every pair of (user_id, source) is only counted once. Here are the results:"
     ]
    },
    {
     "cell_type": "code",
     "collapsed": false,
     "input": [
      "df_stream.loc[df_stream.source.str.contains('Android'), 'source'] = 'Android'\n",
      "df_stream.loc[df_stream.source.str.contains('iPhone|iOS|iPad'), 'source'] = 'iOS'\n",
      "df_stream.loc[df_stream.source.str.contains('BlackBerry'), 'source'] = 'BlackBerry'\n",
      "df_stream.loc[df_stream.source.str.contains('Windows Phone'), 'source'] = 'Windows Phone'\n",
      "df_stream = df_stream.drop_duplicates()\n",
      "\n",
      "mobile = df_stream.loc[df_stream.source.str.contains('Windows Phone|iOS|Android|BlackBerry')]\n",
      "mobile_counts = mobile['source'].value_counts()\n",
      "mobile_counts"
     ],
     "language": "python",
     "metadata": {},
     "outputs": [
      {
       "metadata": {},
       "output_type": "pyout",
       "prompt_number": 4,
       "text": [
        "Android          17904\n",
        "iOS               1991\n",
        "BlackBerry         217\n",
        "Windows Phone      138\n",
        "dtype: int64"
       ]
      }
     ],
     "prompt_number": 4
    },
    {
     "cell_type": "code",
     "collapsed": false,
     "input": [
      "colors = ['yellowgreen', 'gold', 'lightskyblue', 'lightcoral']\n",
      "sizes = 100 * (mobile_counts / sum(mobile_counts))\n",
      "plt.pie(sizes, labels=mobile_counts.index, colors=colors,\n",
      "        autopct='%1.1f%%', pctdistance=1.2, labeldistance=1.4, shadow=True)\n",
      "plt.show()"
     ],
     "language": "python",
     "metadata": {},
     "outputs": [
      {
       "metadata": {},
       "output_type": "display_data",
       "png": "[encoded data removed]",
       "text": [
        "<matplotlib.figure.Figure at 0x11fc63050>"
       ]
      }
     ],
     "prompt_number": 10
    },
    {
     "cell_type": "markdown",
     "metadata": {},
     "source": [
      "## Crawling\n",
      "The analysis using the streaming API left me with some doubts, specially the fact that from around 800k tweets there were only 29k unique users. Maybe by following another approach a bigger sample could be obtained. Twitter has the interesting property that there are accounts (celebrities, athletes, news outlets, etc.) that have a really large amount of followers, so without using a graph traversal algorithm but instead a simple crawler that fetches followers' tweets we can get an interesting sample of tweets for a given demographic. The following analysis was made by crawling the followers of [@abcdigital](https://twitter.com/abcdigital), the most popular newspaper in the country.\n",
      "\n",
      "The crawler consisted originally of one thread that fetched followers and stores them into a queue and another thread that popped users off the queue and fetched the user's tweets, all of this using a single api key. While writing the code I've noticed that due to twitter's api limits this would take a very long time, in particular the part that obtained user's tweets. The [statuses/user_timeline](https://dev.twitter.com/rest/reference/get/statuses/user_timeline) endpoint has a limit of 300 requests per 15 minute window, [@abcdigital](https://twitter.com/abcdigital) has around 240k followers so if using a single api key it  would take 240k / 300 = 800 15-min windows and a total time of 800 * 15 min = 12000 min (~8 days). So I ended up using multiple api keys and a one thread per api key, this was the simplest way to modifiy the code I had already written to fetch tweets from multiple users in parallel and since this is I/O bound python's [GIL](https://wiki.python.org/moin/GlobalInterpreterLock) would not be a problem.\n",
      "\n",
      "```python\n",
      "import time\n",
      "import Queue\n",
      "import datetime\n",
      "import threading\n",
      "import logging\n",
      "import sys\n",
      "import pymongo\n",
      "\n",
      "\n",
      "from twython import (\n",
      "    Twython,\n",
      "    TwythonRateLimitError,\n",
      "    TwythonError,\n",
      "    TwythonAuthError\n",
      ")\n",
      "\n",
      "from credentials import keys\n",
      "from collections import namedtuple\n",
      "\n",
      "# DEBUG\n",
      "# import pdb\n",
      "\n",
      "logging.basicConfig(\n",
      "    level=logging.DEBUG,\n",
      "    format='%(asctime)s [%(levelname)s] \\\n",
      "            (%(threadName)-8s) %(funcName)20s() %(message)s')\n",
      "\n",
      "\n",
      "class FollowersCountdown():\n",
      "    def __init__(self, num_followers):\n",
      "        self._num_followers = num_followers\n",
      "        self._lock = threading.Lock()\n",
      "\n",
      "    def decrement_counter(self):\n",
      "        with self._lock:\n",
      "            if self._num_followers > 0:\n",
      "                self._num_followers -= 1\n",
      "            logging.debug(\"Followers left to crawl {}\".format(\n",
      "                self._num_followers))\n",
      "\n",
      "    def finished(self):\n",
      "        return not bool(self._num_followers)\n",
      "\n",
      "\n",
      "class ErrorHandler():\n",
      "    def __init__(self):\n",
      "        self.retry = False\n",
      "\n",
      "    def __enter__(self):\n",
      "        return self\n",
      "\n",
      "    def __exit__(self, type, value, traceback):\n",
      "        if isinstance(value, TwythonRateLimitError):\n",
      "            self.retry = True\n",
      "\n",
      "            logging.debug('Retry after {}'.format(value.retry_after))\n",
      "            t = datetime.datetime.fromtimestamp(float(value.retry_after))\n",
      "            now = datetime.datetime.now()\n",
      "\n",
      "            if now < t:\n",
      "                dt = t - now\n",
      "                logging.error(\n",
      "                    'Rate limit exceeded. Sleep {} seconds'.format(dt.seconds))\n",
      "                time.sleep(dt.seconds)\n",
      "\n",
      "        elif isinstance(value, TwythonAuthError):\n",
      "            logging.debug('Authentication Error')\n",
      "            self.retry = False\n",
      "        elif isinstance(value, TwythonError):\n",
      "            if value.error_code == 404:\n",
      "                logging.debug('Http 404. No need to retry')\n",
      "                self.retry = False\n",
      "            else:\n",
      "                # wait for a bit and retry\n",
      "                self.retry = True\n",
      "                logging.error('Unexpected Error. Sleep {} seconds'.format(10))\n",
      "                time.sleep(10)\n",
      "\n",
      "        return True\n",
      "\n",
      "\n",
      "class FollowersFetcher(threading.Thread):\n",
      "    def __init__(self, queue, tw, screen_name):\n",
      "        threading.Thread.__init__(self)\n",
      "        self._queue = queue\n",
      "        self._tw = tw\n",
      "        self._screen_name = screen_name\n",
      "\n",
      "    def run(self):\n",
      "        self._enqueue_followers()\n",
      "\n",
      "    def _enqueue_followers(self):\n",
      "        logging.info('Filling queue of followers')\n",
      "\n",
      "        for followers_chunk in self._get_followers():\n",
      "            for follower_id in followers_chunk:\n",
      "                logging.debug(\"Adding user_id:{} to queue\".format(follower_id))\n",
      "                self._queue.put(follower_id)\n",
      "\n",
      "        logging.info('All followers already in queue')\n",
      "\n",
      "    def _get_followers(self):\n",
      "        cursor = -1\n",
      "\n",
      "        while cursor != 0:\n",
      "            with ErrorHandler():\n",
      "                response = self._tw.get_followers_ids(\n",
      "                    screen_name=self._screen_name,\n",
      "                    cursor=cursor)\n",
      "                cursor = response['next_cursor']\n",
      "                yield response['ids']\n",
      "\n",
      "\n",
      "class TweetsFetcher(threading.Thread):\n",
      "    def __init__(self, queue, tw, followers_countdown, mongo_config):\n",
      "        threading.Thread.__init__(self)\n",
      "        self._queue = queue\n",
      "        self._tw = tw\n",
      "        self._countdown = followers_countdown\n",
      "        self._mongo_conn = pymongo.MongoClient()\n",
      "        self._db = mongo_config.db\n",
      "        self._collection = mongo_config.collection\n",
      "\n",
      "    def run(self):\n",
      "        while True:\n",
      "            try:\n",
      "                user_id = self._queue.get(False)\n",
      "                logging.info('Fetching tweets from user_id {}'.format(user_id))\n",
      "\n",
      "                for tweet in self._get_user_tweets(user_id):\n",
      "                    self._mongo_conn[self._db][self._collection].insert(tweet)\n",
      "\n",
      "                self._countdown.decrement_counter()\n",
      "            except Queue.Empty:\n",
      "                logging.debug('Followers Queue is empty')\n",
      "                if self._countdown.finished():\n",
      "                    break\n",
      "                else:\n",
      "                    time.sleep(1)\n",
      "\n",
      "    def _get_user_tweets(self, user_id):\n",
      "        while True:\n",
      "            timeline = []\n",
      "\n",
      "            with ErrorHandler() as e:\n",
      "                timeline = self._tw.get_user_timeline(id=user_id)\n",
      "\n",
      "            if e.retry:\n",
      "                continue\n",
      "\n",
      "            break\n",
      "\n",
      "        return (tweet for tweet in timeline)\n",
      "\n",
      "\n",
      "def build_twitter_conn(app_key, app_secret):\n",
      "    twitter = Twython(app_key, app_secret, oauth_version=2)\n",
      "    ACCESS_TOKEN = twitter.obtain_access_token()\n",
      "    twitter = Twython(app_key, access_token=ACCESS_TOKEN)\n",
      "    return twitter\n",
      "\n",
      "\n",
      "def main():\n",
      "    \"\"\"\n",
      "    Usage: python crawl_followers.py [SCREEN_NAME] [DATABASE] [COLLECTION]\n",
      "\n",
      "    SCREEN_NAME: Twitter account\n",
      "    DATABASE: MongoDb Database\n",
      "    COLLECTION: MongoDb Collection\n",
      "\n",
      "    \"\"\"\n",
      "    screen_name, db, collection = sys.argv[1:]\n",
      "    MongoConfig = namedtuple('MongoConfig', ['db', 'collection'])\n",
      "    mongo_config = MongoConfig(db=db, collection=collection)\n",
      "\n",
      "    # 1. Get the amount of followers\n",
      "    app_key, app_secret = keys[0]\n",
      "    twitter = build_twitter_conn(app_key, app_secret)\n",
      "\n",
      "    user_info = twitter.show_user(screen_name=screen_name)\n",
      "    followers_count = user_info['followers_count']\n",
      "    logging.debug('Number of followers: %d' % followers_count)\n",
      "\n",
      "    # 2. Start filling the Queue with followers to crawl\n",
      "    q = Queue.Queue()\n",
      "\n",
      "    ff = FollowersFetcher(q, twitter, screen_name)\n",
      "    ff.start()\n",
      "\n",
      "    countdown = FollowersCountdown(followers_count)\n",
      "\n",
      "    # 3. Start worker threads to fetch followers tweets\n",
      "    for i in range(len(keys)):\n",
      "        app_key, app_secret = keys[i]\n",
      "        twitter = build_twitter_conn(app_key, app_secret)\n",
      "\n",
      "        tf = TweetsFetcher(q, twitter, countdown, mongo_config)\n",
      "        tf.start()\n",
      "\n",
      "\n",
      "if __name__ == '__main__':\n",
      "    main()\n",
      "\n",
      "```"
     ]
    },
    {
     "cell_type": "markdown",
     "metadata": {},
     "source": [
      "Here's a similar analysis to the one done before, but going straight to the mobile platform stats."
     ]
    },
    {
     "cell_type": "code",
     "collapsed": false,
     "input": [
      "data = db.crawling.aggregate(\n",
      "    {'$project': {'_id': '$user.id', 'source': '$source', 'created_at': '$created_at'}}, cursor={})\n",
      "\n",
      "df_crawling = DataFrame(list(data))"
     ],
     "language": "python",
     "metadata": {},
     "outputs": [],
     "prompt_number": 2
    },
    {
     "cell_type": "markdown",
     "metadata": {},
     "source": [
      "3446836 tweets were obtained from 240225 users."
     ]
    },
    {
     "cell_type": "code",
     "collapsed": false,
     "input": [
      "len(df_crawling)"
     ],
     "language": "python",
     "metadata": {},
     "outputs": [
      {
       "metadata": {},
       "output_type": "pyout",
       "prompt_number": 13,
       "text": [
        "3446836"
       ]
      }
     ],
     "prompt_number": 13
    },
    {
     "cell_type": "code",
     "collapsed": false,
     "input": [
      "len(df_crawling['_id'].drop_duplicates())"
     ],
     "language": "python",
     "metadata": {},
     "outputs": [
      {
       "metadata": {},
       "output_type": "pyout",
       "prompt_number": 14,
       "text": [
        "240225"
       ]
      }
     ],
     "prompt_number": 14
    },
    {
     "cell_type": "markdown",
     "metadata": {},
     "source": [
      "By grouping according to mobile platform and deleting duplicates entries as done before we get the following stats. I found it a bit odd that BlackBerry appeared second, they were once very popular but nowadays I hardly see anyone using them."
     ]
    },
    {
     "cell_type": "code",
     "collapsed": false,
     "input": [
      "df_crawling.loc[df_crawling.source.str.contains('Android'), 'source'] = 'Android'\n",
      "df_crawling.loc[df_crawling.source.str.contains('iPhone|iOS|iPad'), 'source'] = 'iOS'\n",
      "df_crawling.loc[df_crawling.source.str.contains('BlackBerry'), 'source'] = 'BlackBerry'\n",
      "df_crawling.loc[df_crawling.source.str.contains('Windows Phone'), 'source'] = 'Windows Phone'\n",
      "df_crawling = df_crawling.drop_duplicates(subset=['_id', 'source'])\n",
      "\n",
      "mobile = df_crawling.loc[df_crawling.source.str.contains('Windows Phone|iOS|Android|BlackBerry')]\n",
      "mobile_counts = mobile['source'].value_counts()"
     ],
     "language": "python",
     "metadata": {},
     "outputs": [],
     "prompt_number": 5
    },
    {
     "cell_type": "code",
     "collapsed": false,
     "input": [
      "mobile_counts"
     ],
     "language": "python",
     "metadata": {},
     "outputs": [
      {
       "metadata": {},
       "output_type": "pyout",
       "prompt_number": 6,
       "text": [
        "Android          132526\n",
        "BlackBerry        31617\n",
        "iOS               21380\n",
        "Windows Phone      8587\n",
        "dtype: int64"
       ]
      }
     ],
     "prompt_number": 6
    },
    {
     "cell_type": "code",
     "collapsed": false,
     "input": [
      "colors = ['yellowgreen', 'gold', 'lightskyblue', 'lightcoral']\n",
      "sizes = 100 * (mobile_counts / sum(mobile_counts))\n",
      "plt.pie(sizes, labels=mobile_counts.index, colors=colors,\n",
      "        autopct='%1.1f%%', pctdistance=1.2, labeldistance=1.4, shadow=True)\n",
      "plt.show()"
     ],
     "language": "python",
     "metadata": {},
     "outputs": [
      {
       "metadata": {},
       "output_type": "display_data",
       "png": "[encoded data removed]",
       "text": [
        "<matplotlib.figure.Figure at 0x1b828ffd0>"
       ]
      }
     ],
     "prompt_number": 7
    },
    {
     "cell_type": "markdown",
     "metadata": {},
     "source": [
      "I repeated the same process, but now limiting the tweets to the year 2014 and indeed BlackBerry's marketshare dropped."
     ]
    },
    {
     "cell_type": "code",
     "collapsed": false,
     "input": [
      "df_crawling = df_crawling.loc[df_crawling.created_at.str.contains('2014')]\n",
      "mobile = df_crawling.loc[df_crawling.source.str.contains('Windows Phone|iOS|Android|BlackBerry')]\n",
      "mobile_counts = mobile['source'].value_counts()\n",
      "mobile_counts"
     ],
     "language": "python",
     "metadata": {},
     "outputs": [
      {
       "metadata": {},
       "output_type": "pyout",
       "prompt_number": 8,
       "text": [
        "Android          108436\n",
        "iOS               18493\n",
        "BlackBerry         9753\n",
        "Windows Phone      7345\n",
        "dtype: int64"
       ]
      }
     ],
     "prompt_number": 8
    },
    {
     "cell_type": "markdown",
     "metadata": {},
     "source": [
      "And here are the final results with Android and iOS in the first two spots, as in most markets. BlackBerry in a distant third place and Windows Phone growing. \n",
      "\n",
      "Although these results were obtained from a bigger sample than the first approach, keep in mind that these numbers are subject to a certain margin of error since we don't actually have the location (by observing the data I've noticed most tweets did not have geolocation data) and I'm also assuming that [@abcdigital](https://twitter.com/abcdigital) followers represent a homogenous distribution of the Paraguayan population. Having said that, this distribution seems like an accurate representation\n",
      "of the current marketshare."
     ]
    },
    {
     "cell_type": "code",
     "collapsed": false,
     "input": [
      "colors = ['yellowgreen', 'gold', 'lightskyblue', 'lightcoral']\n",
      "sizes = 100 * (mobile_counts / sum(mobile_counts))\n",
      "plt.pie(sizes, labels=mobile_counts.index, colors=colors,\n",
      "        autopct='%1.1f%%', pctdistance=1.2, labeldistance=1.4, shadow=True)\n",
      "plt.show()"
     ],
     "language": "python",
     "metadata": {},
     "outputs": [
      {
       "metadata": {},
       "output_type": "display_data",
       "png": "[encoded data removed]",
       "text": [
        "<matplotlib.figure.Figure at 0x1c33b0810>"
       ]
      }
     ],
     "prompt_number": 9
    }
   ],
   "metadata": {}
  }
 ]
}